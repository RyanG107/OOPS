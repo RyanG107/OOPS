{
  "nbformat": 4,
  "nbformat_minor": 0,
  "metadata": {
    "colab": {
      "provenance": [],
      "authorship_tag": "ABX9TyOf0mkOMXIDivrX5X5cAXo+",
      "include_colab_link": true
    },
    "kernelspec": {
      "name": "python3",
      "display_name": "Python 3"
    },
    "language_info": {
      "name": "python"
    }
  },
  "cells": [
    {
      "cell_type": "markdown",
      "metadata": {
        "id": "view-in-github",
        "colab_type": "text"
      },
      "source": [
        "<a href=\"https://colab.research.google.com/github/RyanG107/OOPS/blob/main/oops3.ipynb\" target=\"_parent\"><img src=\"https://colab.research.google.com/assets/colab-badge.svg\" alt=\"Open In Colab\"/></a>"
      ]
    },
    {
      "cell_type": "code",
      "execution_count": null,
      "metadata": {
        "colab": {
          "base_uri": "https://localhost:8080/"
        },
        "id": "RmcfYTdlC3ig",
        "outputId": "aada8ae4-f32d-48eb-bb67-756a7de656cd"
      },
      "outputs": [
        {
          "output_type": "stream",
          "name": "stdout",
          "text": [
            "title: laura\n",
            "author: jogi\n",
            "genre: action\n",
            "year 2023 \n",
            "\n",
            "title: wuchanclan\n",
            "author: arpit bala\n",
            "genre: action\n",
            "year 2022 \n",
            "\n"
          ]
        }
      ],
      "source": [
        "class book:\n",
        "  def __init__(self,title,author,genre,year):\n",
        "    self.title=title\n",
        "    self.author=author\n",
        "    self.genre=genre\n",
        "    self.year=year\n",
        "\n",
        "\n",
        "  def display(self):\n",
        "    print(\"title:\",self.title)\n",
        "    print(\"author:\",self.author)\n",
        "    print(\"genre:\",self.genre)\n",
        "    print(\"year\",self.year,\"\\n\")\n",
        "\n",
        "x=book('laura','jogi','action',2023)\n",
        "y=book('wuchanclan','arpit bala','action',2022)\n",
        "x.display();\n",
        "y.display();"
      ]
    },
    {
      "cell_type": "code",
      "source": [
        "class movie:\n",
        "  def __init__(self,name,price,time,ava):\n",
        "    self.name=name\n",
        "    self.price=price\n",
        "    self.time=time\n",
        "    self.ava=ava\n",
        "\n",
        "\n",
        "  def display(self):\n",
        "    print(\"name:\",self.name)\n",
        "    print(\"price:\",self.price)\n",
        "    print(\"time:\",self.time)\n",
        "    print(\"availble ticket\",self.ava)\n",
        "\n",
        "\n",
        "\n",
        "  def book_tickets(self, num_tickets):\n",
        "        if num_tickets > self.ava:\n",
        "            print(\"Error: Not enough tickets available\")\n",
        "        else:\n",
        "            self.ava -=  num_tickets\n",
        "            print(f\"{num_tickets} booked successfully!\")\n",
        "\n",
        "  def calculate_total_cost(self, num_tickets):\n",
        "        print(f\"The ticket cost is {num_tickets*self.price}\")\n",
        "\n",
        "\n",
        "\n",
        "m = movie(\"Iron man\",300,\"9:30\", 3000)\n",
        "m.display()\n",
        "m.book_tickets(2)\n",
        "m.calculate_total_cost(2)\n",
        "m.display()\n",
        "m.book_tickets(4)\n",
        "m.calculate_total_cost(4)"
      ],
      "metadata": {
        "colab": {
          "base_uri": "https://localhost:8080/"
        },
        "id": "SW-dE0y8Ecw5",
        "outputId": "1971a0ad-fd78-4ee5-d620-4198fda7283b"
      },
      "execution_count": null,
      "outputs": [
        {
          "output_type": "stream",
          "name": "stdout",
          "text": [
            "name: Iron man\n",
            "price: 300\n",
            "time: 9:30\n",
            "availble ticket 3000\n",
            "2 booked successfully!\n",
            "The ticket cost is 600\n",
            "name: Iron man\n",
            "price: 300\n",
            "time: 9:30\n",
            "availble ticket 2998\n",
            "4 booked successfully!\n",
            "The ticket cost is 1200\n"
          ]
        }
      ]
    },
    {
      "cell_type": "code",
      "source": [
        "class Employee:\n",
        "    def __init__(self, name, salary):\n",
        "        self.name = name\n",
        "        self.__salary = salary\n",
        "\n",
        "    def work(self, salary):\n",
        "        self.__salary += salary\n",
        "        print(f\"Employee is working. {salary} has been added to salary\")\n",
        "\n",
        "    def show(self):\n",
        "        print(f\"Salary earned by {self.name} is {self.__salary}\")\n",
        "\n",
        "\n",
        "\n",
        "\n",
        "emp = Employee(\"Rahul\", 9000)\n",
        "emp.work(1000)\n",
        "emp.show()"
      ],
      "metadata": {
        "colab": {
          "base_uri": "https://localhost:8080/"
        },
        "id": "MUpCZ_ypICHS",
        "outputId": "5ea9569c-f304-4736-a1aa-ccb746485de2"
      },
      "execution_count": null,
      "outputs": [
        {
          "output_type": "stream",
          "name": "stdout",
          "text": [
            "Employee is working. 1000 has been added to salary\n",
            "Salary earned by Rahul is 10000\n"
          ]
        }
      ]
    },
    {
      "cell_type": "code",
      "source": [
        "class Product:\n",
        "    def __init__(self, id, name, price):\n",
        "        self.id = id\n",
        "        self.name = name\n",
        "        self.price = price\n",
        "\n",
        "    def apply_discount(self, percentage):\n",
        "        print(f\"The discounted price after {percentage}% discount is {self.price*percentage/100}\")\n",
        "\n",
        "    def is_expensive(self, threshold):\n",
        "        if self.price > threshold:\n",
        "            print(\"This product is expensive\")\n",
        "        else:\n",
        "            print(\"This product is not expensive\")\n",
        "\n",
        "    def display_product_info(self):\n",
        "        print(\"The product information is:\")\n",
        "        print(f\"The product id is {self.id}\")\n",
        "        print(f\"The prouct name is {self.name}\")\n",
        "        print(f\"The price is {self.price}\")\n",
        "\n",
        "p = Product(1000, \"iPhone\", 1_00_000)\n",
        "p.display_product_info()\n",
        "p.is_expensive(50000)\n",
        "p.apply_discount(40)\n",
        "\n",
        "\n"
      ],
      "metadata": {
        "colab": {
          "base_uri": "https://localhost:8080/"
        },
        "id": "mbU4iamFL-jN",
        "outputId": "0cd52c76-01aa-40b0-d0da-1805b28461d3"
      },
      "execution_count": null,
      "outputs": [
        {
          "output_type": "stream",
          "name": "stdout",
          "text": [
            "The product information is:\n",
            "The product id is 1000\n",
            "The prouct name is iPhone\n",
            "The price is 100000\n",
            "This product is expensive\n",
            "The discounted price after 40% discount is 40000.0\n",
            "Employee is working. 1000 has been added to salary\n",
            "Salary earned by Rahul is 10000\n"
          ]
        }
      ]
    },
    {
      "cell_type": "code",
      "source": [
        "class CreditCard:\n",
        "    def __init__(self, limit, balance):\n",
        "        self._limit = limit\n",
        "        self.balance = balance\n",
        "\n",
        "    def get_balance(self):\n",
        "        print(f\"Current balance is {self.balance}\")\n",
        "\n",
        "    def withdraw(self, amount):\n",
        "        if(amount <= 0):\n",
        "            print(f\"Invalid amount entered\")\n",
        "        elif amount > self._limit - self.balance:\n",
        "            print(\"Error: amount greater than limit\")\n",
        "        else:\n",
        "            self.balance += amount\n",
        "            print(f\"{amount} has been withdrawn from account\")\n",
        "\n",
        "    def deposit(self, amount):\n",
        "        if(amount <= 0):\n",
        "            print(f\"Invalid amount entered\")\n",
        "        else:\n",
        "            self.balance -= amount\n",
        "            print(f\"{amount} has been deposited into account\")\n",
        "\n",
        "card = CreditCard(10000, -10)\n",
        "\n",
        "card.get_balance()\n",
        "card.deposit(1000)\n",
        "card.get_balance()\n",
        "card.withdraw(5000)\n",
        "card.get_balance()\n"
      ],
      "metadata": {
        "colab": {
          "base_uri": "https://localhost:8080/"
        },
        "id": "Tt520oanL_F6",
        "outputId": "37e1de2a-1b9a-44bf-a9dc-a7731d9c1326"
      },
      "execution_count": null,
      "outputs": [
        {
          "output_type": "stream",
          "name": "stdout",
          "text": [
            "Current balance is -10\n",
            "1000 has been deposited into account\n",
            "Current balance is -1010\n",
            "5000 has been withdrawn from account\n",
            "Current balance is 3990\n"
          ]
        }
      ]
    },
    {
      "cell_type": "code",
      "source": [],
      "metadata": {
        "id": "ie56JQEVNBQc"
      },
      "execution_count": null,
      "outputs": []
    }
  ]
}